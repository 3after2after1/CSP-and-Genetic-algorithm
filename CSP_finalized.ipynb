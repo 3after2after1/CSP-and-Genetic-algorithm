{
 "cells": [
  {
   "cell_type": "markdown",
   "metadata": {
    "colab_type": "text",
    "id": "z6xl9881xCFJ"
   },
   "source": [
    "# Welcome to CSP solutions to vacation problem.\n",
    "\n",
    "To define your own parameter in the CSP, please follow the cells below.\n",
    "\n",
    "Set the variable `use_default` as false if different parameter are to be specified in this algorithm. \n",
    "\n",
    "Set it to `True` if the default values of all parameter are used, and immediately run all cells in this notebook."
   ]
  },
  {
   "cell_type": "code",
   "execution_count": 0,
   "metadata": {
    "colab": {},
    "colab_type": "code",
    "id": "Xs7NRq_oxLyr"
   },
   "outputs": [],
   "source": [
    "use_default = False"
   ]
  },
  {
   "cell_type": "markdown",
   "metadata": {
    "colab_type": "text",
    "id": "ISE20eLhxUgd"
   },
   "source": [
    "Specify the absolute path to save the pickled solutions in the variable `pickled_solution_path`"
   ]
  },
  {
   "cell_type": "code",
   "execution_count": 0,
   "metadata": {
    "colab": {},
    "colab_type": "code",
    "id": "z_-aaxs4w79_"
   },
   "outputs": [],
   "source": [
    "pickled_solution_save_path = '/content/drive/My Drive/ai-ga-algo/csp-solutions-compressed.pyfile'"
   ]
  },
  {
   "cell_type": "markdown",
   "metadata": {
    "colab_type": "text",
    "id": "i5iFUo8dxdZS"
   },
   "source": [
    "Specify the days of travelling in the variable `days_of_travel_param`.\n",
    "\n",
    "Specify the allocated budget in the variable `allocated_budget_param`."
   ]
  },
  {
   "cell_type": "code",
   "execution_count": 0,
   "metadata": {
    "colab": {},
    "colab_type": "code",
    "id": "TXLrLvGOxhiM"
   },
   "outputs": [],
   "source": [
    "days_of_travel_param = 4\n",
    "allocated_budget_param = 2500"
   ]
  },
  {
   "cell_type": "markdown",
   "metadata": {
    "colab_type": "text",
    "id": "fh-o58Hyxy-T"
   },
   "source": [
    "## End of Parameter Specification \n",
    "Setting of parameter is done. Please run all of the cells below at once."
   ]
  },
  {
   "cell_type": "markdown",
   "metadata": {
    "colab_type": "text",
    "id": "lWGHbQ2ix-cU"
   },
   "source": [
    "# Constraint Satisfaction Problem to Solve Vacation Problem"
   ]
  },
  {
   "cell_type": "code",
   "execution_count": 0,
   "metadata": {
    "colab": {},
    "colab_type": "code",
    "id": "0kx1-cM_CpZy"
   },
   "outputs": [],
   "source": [
    "import constraint\n",
    "import numpy as np"
   ]
  },
  {
   "cell_type": "code",
   "execution_count": 0,
   "metadata": {
    "colab": {},
    "colab_type": "code",
    "id": "sRx2M-lymiAg"
   },
   "outputs": [],
   "source": [
    "# saving to pickle functions\n",
    "import pickle\n",
    "import gzip\n",
    "\n",
    "def dump_obj(obj, filename):\n",
    "    with gzip.GzipFile(filename, 'wb') as f:\n",
    "        pickle.dump(obj, f)\n",
    "\n",
    "def load_obj(filename):\n",
    "    obj = None\n",
    "    with gzip.GzipFile(filename, 'rb') as f:\n",
    "        obj = pickle.load(f)\n",
    "    return obj"
   ]
  },
  {
   "cell_type": "markdown",
   "metadata": {
    "colab_type": "text",
    "id": "9hvJJQG3CpZ9"
   },
   "source": [
    "## Code snippet for representation of more than one item (multi-hot encoding) ##\n",
    "Useful for selecting multiple options for domain variables later"
   ]
  },
  {
   "cell_type": "code",
   "execution_count": 0,
   "metadata": {
    "colab": {},
    "colab_type": "code",
    "id": "ktu6Crl_CpaD"
   },
   "outputs": [],
   "source": [
    "def add_choice(choices, **kwargs):\n",
    "    index = 2 ** len(choices)\n",
    "    choices[index] = kwargs\n",
    "    #clear doubt here\n",
    "\n",
    "def range_of_choices(choices):\n",
    "    return range(sum(choices.keys()) + 1)\n",
    "    #returns 2 ** len(choices)\n",
    "\n",
    "def choose(choices, choice_number):\n",
    "    power = len(choices)\n",
    "    chosen_items = list()\n",
    " \n",
    "    while choice_number > 0:\n",
    "        if choice_number - 2**power >= 0:\n",
    "            choice_number -= 2**power\n",
    "            if 2**power in choices:\n",
    "                chosen_items.append(choices[2**power])\n",
    "        power -= 1\n",
    " \n",
    "    return chosen_items"
   ]
  },
  {
   "cell_type": "markdown",
   "metadata": {
    "colab_type": "text",
    "id": "oa0dN6cXCpaL"
   },
   "source": [
    "## Abbreviation for domain variables ##"
   ]
  },
  {
   "cell_type": "code",
   "execution_count": 0,
   "metadata": {
    "colab": {},
    "colab_type": "code",
    "id": "kA8nyQ_RCpaN"
   },
   "outputs": [],
   "source": [
    "abbr = {\n",
    "    'h': 'hotels',\n",
    "    'f': 'food_types',\n",
    "    't': 'tourist_spots',\n",
    "    'r': 'transportations'\n",
    "}"
   ]
  },
  {
   "cell_type": "markdown",
   "metadata": {
    "colab_type": "text",
    "id": "_wjE17SjCpaV"
   },
   "source": [
    "## Create empty list for each domain variable ##"
   ]
  },
  {
   "cell_type": "code",
   "execution_count": 0,
   "metadata": {
    "colab": {},
    "colab_type": "code",
    "id": "G2F3h8SRCpaX"
   },
   "outputs": [],
   "source": [
    "# To set up the domain space\n",
    "hotels = list()\n",
    "food_types = dict()\n",
    "tourist_spots = dict()\n",
    "transportations = dict()"
   ]
  },
  {
   "cell_type": "markdown",
   "metadata": {
    "colab_type": "text",
    "id": "RqjFpc2VCpad"
   },
   "source": [
    "## Insert attribute values for each domain variable ##"
   ]
  },
  {
   "cell_type": "code",
   "execution_count": 0,
   "metadata": {
    "colab": {},
    "colab_type": "code",
    "id": "Sxjvo4ZSCpag"
   },
   "outputs": [],
   "source": [
    "# Add hotels, e.g.\n",
    "hotels.append({\n",
    "    \"name\": \"Avani Sepang Goldcoast Resort\",\n",
    "    \"star\": 5,\n",
    "    \"ppn\": 470\n",
    "})\n",
    "    \n",
    "hotels.append({\n",
    "    \"name\": \"Shangri-La Hotel Kuala Lumpur\",\n",
    "    \"star\": 5,\n",
    "    \"ppn\": 504\n",
    "})\n",
    "\n",
    "hotels.append({\n",
    "    \"name\": \"St. Giles Hotel & Residences\",\n",
    "    \"star\": 4,\n",
    "    \"ppn\": 412\n",
    "})\n",
    "\n",
    "hotels.append({\n",
    "    \"name\": \"Sunway Pyramid Hotel\",\n",
    "    \"star\": 4,\n",
    "    \"ppn\": 302\n",
    "})\n",
    "    \n",
    "hotels.append({\n",
    "    \"name\": \"Sunway Velocity Hotel\",\n",
    "    \"star\": 3,\n",
    "    \"ppn\": 241\n",
    "})\n",
    "    \n",
    "hotels.append({\n",
    "    \"name\": \"THE FACE Suites\",\n",
    "    \"star\": 3,\n",
    "    \"ppn\": 349\n",
    "})"
   ]
  },
  {
   "cell_type": "code",
   "execution_count": 0,
   "metadata": {
    "colab": {},
    "colab_type": "code",
    "id": "MmtVqJuZCpam"
   },
   "outputs": [],
   "source": [
    "# Add tourist spot, e.g.\n",
    "\n",
    "add_choice(\n",
    "    tourist_spots,\n",
    "    name = \"Sunway Lagoon\",\n",
    "    price = 108\n",
    ")\n",
    "\n",
    "add_choice(\n",
    "    tourist_spots,\n",
    "    name = \"ATV Adventure Park\",\n",
    "    price = 200\n",
    ")\n",
    "\n",
    "add_choice(\n",
    "    tourist_spots,\n",
    "    name = \"Garden of Nature\",\n",
    "    price = 121\n",
    ")\n",
    "\n",
    "add_choice(\n",
    "    tourist_spots,\n",
    "    name = \"Petronas Twin Towers\",\n",
    "    price = 122\n",
    ")\n",
    "\n",
    "add_choice(\n",
    "    tourist_spots,\n",
    "    name = \"Paradise Park Farm\",\n",
    "    price = 63\n",
    ")\n",
    "\n"
   ]
  },
  {
   "cell_type": "code",
   "execution_count": 0,
   "metadata": {
    "colab": {},
    "colab_type": "code",
    "id": "Zb7wGPDcCpau"
   },
   "outputs": [],
   "source": [
    "# Add food type, e.g.\n",
    "add_choice(\n",
    "    food_types,\n",
    "    type = \"Chinese Food\",\n",
    "    price = range(20, 30)\n",
    ")\n",
    "\n",
    "add_choice(\n",
    "    food_types,\n",
    "    type = \"Indian Banana Leaf\",\n",
    "    price = range(10, 20)\n",
    ")\n",
    "\n",
    "add_choice(\n",
    "    food_types,\n",
    "    type = \"Western Food\",\n",
    "    price = range(20, 50)\n",
    ")\n",
    "\n",
    "\n",
    "add_choice(\n",
    "    food_types,\n",
    "    type = \"Local Seafood\",\n",
    "    price = range(20, 30)\n",
    ")\n",
    "\n",
    "\n",
    "add_choice(\n",
    "    food_types,\n",
    "    type = \"Malay Food\",\n",
    "    price = range(7, 20)\n",
    ")"
   ]
  },
  {
   "cell_type": "code",
   "execution_count": 0,
   "metadata": {
    "colab": {},
    "colab_type": "code",
    "id": "IDK_pzl9Cpa6"
   },
   "outputs": [],
   "source": [
    "# Add transportations, e.g.\n",
    "add_choice(\n",
    "    transportations,\n",
    "    name = \"Kommuter\",\n",
    "    ppd = 6\n",
    ")\n",
    "\n",
    "\n",
    "add_choice(\n",
    "    transportations,\n",
    "    name = \"RapidKL Bus\",\n",
    "    ppd = 6\n",
    ")\n",
    "\n",
    "\n",
    "add_choice(\n",
    "    transportations,\n",
    "    name = \"LRT\",\n",
    "    ppd = 5\n",
    ")\n",
    "\n",
    "\n",
    "add_choice(\n",
    "    transportations,\n",
    "    name = \"KLIA Express\",\n",
    "    ppd = 55\n",
    ")\n",
    "\n",
    "\n",
    "add_choice(\n",
    "    transportations,\n",
    "    name = \"Taxi\",\n",
    "    ppd = 40\n",
    ")"
   ]
  },
  {
   "cell_type": "markdown",
   "metadata": {
    "colab_type": "text",
    "id": "g13hG9OZCpbE"
   },
   "source": [
    "## Defining the range of each variables ##"
   ]
  },
  {
   "cell_type": "code",
   "execution_count": 0,
   "metadata": {
    "colab": {},
    "colab_type": "code",
    "id": "wIWRjDbzCpbI"
   },
   "outputs": [],
   "source": [
    "hotel_range = range(len(hotels))\n",
    "food_type_range = range_of_choices(food_types)\n",
    "tourist_spot_range = range_of_choices(tourist_spots)\n",
    "transportation_range = range_of_choices(transportations)"
   ]
  },
  {
   "cell_type": "markdown",
   "metadata": {
    "colab_type": "text",
    "id": "ZY8O6BlYCpbQ"
   },
   "source": [
    "## Fixed variable ##"
   ]
  },
  {
   "cell_type": "code",
   "execution_count": 0,
   "metadata": {
    "colab": {},
    "colab_type": "code",
    "id": "B4EAvLi4CpbU"
   },
   "outputs": [],
   "source": [
    "# fixed variables\n",
    "if use_default:\n",
    "    days_of_travel = 4\n",
    "    allocated_budget = 2500\n",
    "else:\n",
    "    days_of_travel = days_of_travel_param\n",
    "    allocated_budget = allocated_budget_param"
   ]
  },
  {
   "cell_type": "markdown",
   "metadata": {
    "colab_type": "text",
    "id": "Pg34OzQTCpbe"
   },
   "source": [
    "##  Constraint Function ##\n",
    "The fixed variable is also introduced in constraint function"
   ]
  },
  {
   "cell_type": "code",
   "execution_count": 0,
   "metadata": {
    "colab": {},
    "colab_type": "code",
    "id": "UY07xHLuCpbg"
   },
   "outputs": [],
   "source": [
    "def constraint_func(h, t, f, r):\n",
    "    hotel_cost = hotels[h][\"ppn\"] * days_of_travel\n",
    "\n",
    "    tourist_list = choose(tourist_spots, t)\n",
    "    tourist_cost = sum([i['price'] for i in tourist_list])\n",
    "\n",
    "    food_list = choose(food_types, f)\n",
    "    food_cost = sum([(max(i['price'])+min(i['price'])) / 2 * days_of_travel for i in food_list]) \n",
    "    \n",
    "    transportation_list = choose(transportations, r)\n",
    "    transportation_cost = sum([i['ppd'] * days_of_travel for i in transportation_list])\n",
    "        \n",
    "    total_cost = hotel_cost + tourist_cost + food_cost + transportation_cost\n",
    "    return total_cost <= allocated_budget and len(tourist_list) >= 2 and len(food_list)> 0"
   ]
  },
  {
   "cell_type": "code",
   "execution_count": 0,
   "metadata": {
    "colab": {},
    "colab_type": "code",
    "id": "np3HDFfVGnV0"
   },
   "outputs": [],
   "source": [
    "def _constraint_func(**k):\n",
    "    h, t, f, r = k['h'], k['t'], k['f'], k['r']\n",
    "    hotel_cost = hotels[h][\"ppn\"] * days_of_travel\n",
    "\n",
    "    tourist_list = choose(tourist_spots, t)\n",
    "    tourist_cost = sum([i['price'] for i in tourist_list])\n",
    "\n",
    "    food_list = choose(food_types,f)\n",
    "    food_cost = sum([(max(i['price'])+min(i['price'])) / 2 * days_of_travel for i in food_list]) \n",
    "    \n",
    "    transportation_list = choose(transportations,r)\n",
    "    transportation_cost = sum([i['ppd'] * days_of_travel for i in transportation_list])\n",
    "        \n",
    "    total_cost = hotel_cost + tourist_cost + food_cost + transportation_cost\n",
    "    return total_cost"
   ]
  },
  {
   "cell_type": "markdown",
   "metadata": {
    "colab_type": "text",
    "id": "yxtuOlbJCpbp"
   },
   "source": [
    "## CSP"
   ]
  },
  {
   "cell_type": "code",
   "execution_count": 0,
   "metadata": {
    "colab": {},
    "colab_type": "code",
    "id": "bfFMuDjcCpbt"
   },
   "outputs": [],
   "source": [
    "travelling_problem = constraint.Problem()\n",
    "\n",
    "travelling_problem.addVariables('h', hotel_range)\n",
    "travelling_problem.addVariables('t', tourist_spot_range)\n",
    "travelling_problem.addVariables('f', food_type_range)\n",
    "travelling_problem.addVariables('r', transportation_range)\n",
    "\n",
    "travelling_problem.addConstraint(constraint_func, list(['h', 't', 'f', 'r']))"
   ]
  },
  {
   "cell_type": "markdown",
   "metadata": {
    "colab_type": "text",
    "id": "RDgYcdjqCpby"
   },
   "source": [
    "## Extract solutions of CSP ##"
   ]
  },
  {
   "cell_type": "code",
   "execution_count": 0,
   "metadata": {
    "colab": {},
    "colab_type": "code",
    "id": "urSgDPt3Cpb0"
   },
   "outputs": [],
   "source": [
    "solutions = travelling_problem.getSolutions()"
   ]
  },
  {
   "cell_type": "code",
   "execution_count": 209,
   "metadata": {
    "colab": {
     "base_uri": "https://localhost:8080/",
     "height": 35
    },
    "colab_type": "code",
    "id": "YJ-3y8_Y2q3-",
    "outputId": "ce4ddf7f-4b67-4012-b221-5f3b83669418"
   },
   "outputs": [
    {
     "name": "stdout",
     "output_type": "stream",
     "text": [
      "96643\n"
     ]
    }
   ],
   "source": [
    "print(len(solutions))"
   ]
  },
  {
   "cell_type": "markdown",
   "metadata": {
    "colab_type": "text",
    "id": "xKTwDZuUnZYs"
   },
   "source": [
    "## Saving solutions using pickle"
   ]
  },
  {
   "cell_type": "code",
   "execution_count": 0,
   "metadata": {
    "colab": {},
    "colab_type": "code",
    "id": "lAI22VlBGBA4"
   },
   "outputs": [],
   "source": [
    "# pickle the solutions to be used in GA python notebook\n",
    "if use_default:\n",
    "    path = '/content/drive/My Drive/ai-ga-algo/'\n",
    "    dump_obj(solutions, path + 'csp-solutions-compressed.pyfile')\n",
    "\n",
    "else:\n",
    "    dump_obj(solutions, pickled_solution_save_path)"
   ]
  },
  {
   "cell_type": "markdown",
   "metadata": {
    "colab_type": "text",
    "id": "MMjJANqdCpb_"
   },
   "source": [
    "## Key to sort solution in ascending order ##"
   ]
  },
  {
   "cell_type": "code",
   "execution_count": 0,
   "metadata": {
    "colab": {},
    "colab_type": "code",
    "id": "2Eu1vPTPCpcC"
   },
   "outputs": [],
   "source": [
    "def mysort(x):\n",
    "    hotel_cost = hotels[x['h']][\"ppn\"] * days_of_travel\n",
    "\n",
    "    tourist_list = choose(tourist_spots, x['t'])\n",
    "    tourist_cost = sum([i['price'] for i in tourist_list])\n",
    "\n",
    "    food_list = choose(food_types, x['f'])\n",
    "    food_cost = sum([(max(i['price'])+min(i['price'])) / 2 * days_of_travel for i in food_list]) \n",
    "    \n",
    "    transportation_list = choose(transportations, x['r'])\n",
    "    transportation_cost = sum([i['ppd'] * days_of_travel for i in transportation_list])\n",
    "\n",
    "    total_cost = hotel_cost + tourist_cost + food_cost + transportation_cost\n",
    "    return total_cost "
   ]
  },
  {
   "cell_type": "markdown",
   "metadata": {
    "colab_type": "text",
    "id": "QsZqLjsICpcH"
   },
   "source": [
    "## Sort the solution in ascending order of total_cost ##"
   ]
  },
  {
   "cell_type": "code",
   "execution_count": 0,
   "metadata": {
    "colab": {},
    "colab_type": "code",
    "id": "GrwXKxDRCpcJ"
   },
   "outputs": [],
   "source": [
    "sorted_solutions = sorted(solutions, key = mysort)"
   ]
  },
  {
   "cell_type": "markdown",
   "metadata": {
    "colab_type": "text",
    "id": "A1p2X_FzCpcN"
   },
   "source": [
    "## Listing out the top 5 solutions ##"
   ]
  },
  {
   "cell_type": "code",
   "execution_count": 213,
   "metadata": {
    "colab": {
     "base_uri": "https://localhost:8080/",
     "height": 1000
    },
    "colab_type": "code",
    "id": "UA-r8wLACpca",
    "outputId": "f42c0810-b6eb-471e-a4a0-2a88e6b5a454"
   },
   "outputs": [
    {
     "name": "stdout",
     "output_type": "stream",
     "text": [
      "--------------------------------------------------\n",
      "Option 1 :\n",
      "Hotel name: Sunway Velocity Hotel \n",
      "Hotel star: 3 \n",
      "Hotel price per night: RM241\n",
      "Total Hotel cost for 4 days --> RM 964 \n",
      "\n",
      "Number of food types to eat: 1\n",
      "Food choice 1\n",
      "Food type: Malay Food \n",
      "Food price range: RM7-20\n",
      "\n",
      "Total food cost for 4 days --> RM 52.0 \n",
      "\n",
      "Number of tourist spot to visit: 2\n",
      "Tourist spot choice 1\n",
      "Place name: Paradise Park Farm \n",
      "Entrance price: RM63\n",
      "\n",
      "Tourist spot choice 2\n",
      "Place name: Sunway Lagoon \n",
      "Entrance price: RM108\n",
      "\n",
      "Total tourism cost --> RM 171 \n",
      "\n",
      "Number of transportation to use: 0\n",
      "Total transportation cost for 4 days --> RM 0 \n",
      "\n",
      "Overall total cost for option 1 --> RM 1187.0\n",
      "--------------------------------------------------\n",
      "Option 2 :\n",
      "Hotel name: Sunway Velocity Hotel \n",
      "Hotel star: 3 \n",
      "Hotel price per night: RM241\n",
      "Total Hotel cost for 4 days --> RM 964 \n",
      "\n",
      "Number of food types to eat: 1\n",
      "Food choice 1\n",
      "Food type: Indian Banana Leaf \n",
      "Food price range: RM10-20\n",
      "\n",
      "Total food cost for 4 days --> RM 58.0 \n",
      "\n",
      "Number of tourist spot to visit: 2\n",
      "Tourist spot choice 1\n",
      "Place name: Paradise Park Farm \n",
      "Entrance price: RM63\n",
      "\n",
      "Tourist spot choice 2\n",
      "Place name: Sunway Lagoon \n",
      "Entrance price: RM108\n",
      "\n",
      "Total tourism cost --> RM 171 \n",
      "\n",
      "Number of transportation to use: 0\n",
      "Total transportation cost for 4 days --> RM 0 \n",
      "\n",
      "Overall total cost for option 2 --> RM 1193.0\n",
      "--------------------------------------------------\n",
      "Option 3 :\n",
      "Hotel name: Sunway Velocity Hotel \n",
      "Hotel star: 3 \n",
      "Hotel price per night: RM241\n",
      "Total Hotel cost for 4 days --> RM 964 \n",
      "\n",
      "Number of food types to eat: 1\n",
      "Food choice 1\n",
      "Food type: Malay Food \n",
      "Food price range: RM7-20\n",
      "\n",
      "Total food cost for 4 days --> RM 52.0 \n",
      "\n",
      "Number of tourist spot to visit: 2\n",
      "Tourist spot choice 1\n",
      "Place name: Paradise Park Farm \n",
      "Entrance price: RM63\n",
      "\n",
      "Tourist spot choice 2\n",
      "Place name: Garden of Nature \n",
      "Entrance price: RM121\n",
      "\n",
      "Total tourism cost --> RM 184 \n",
      "\n",
      "Number of transportation to use: 0\n",
      "Total transportation cost for 4 days --> RM 0 \n",
      "\n",
      "Overall total cost for option 3 --> RM 1200.0\n",
      "--------------------------------------------------\n",
      "Option 4 :\n",
      "Hotel name: Sunway Velocity Hotel \n",
      "Hotel star: 3 \n",
      "Hotel price per night: RM241\n",
      "Total Hotel cost for 4 days --> RM 964 \n",
      "\n",
      "Number of food types to eat: 1\n",
      "Food choice 1\n",
      "Food type: Malay Food \n",
      "Food price range: RM7-20\n",
      "\n",
      "Total food cost for 4 days --> RM 52.0 \n",
      "\n",
      "Number of tourist spot to visit: 2\n",
      "Tourist spot choice 1\n",
      "Place name: Paradise Park Farm \n",
      "Entrance price: RM63\n",
      "\n",
      "Tourist spot choice 2\n",
      "Place name: Petronas Twin Towers \n",
      "Entrance price: RM122\n",
      "\n",
      "Total tourism cost --> RM 185 \n",
      "\n",
      "Number of transportation to use: 0\n",
      "Total transportation cost for 4 days --> RM 0 \n",
      "\n",
      "Overall total cost for option 4 --> RM 1201.0\n",
      "--------------------------------------------------\n",
      "Option 5 :\n",
      "Hotel name: Sunway Velocity Hotel \n",
      "Hotel star: 3 \n",
      "Hotel price per night: RM241\n",
      "Total Hotel cost for 4 days --> RM 964 \n",
      "\n",
      "Number of food types to eat: 1\n",
      "Food choice 1\n",
      "Food type: Indian Banana Leaf \n",
      "Food price range: RM10-20\n",
      "\n",
      "Total food cost for 4 days --> RM 58.0 \n",
      "\n",
      "Number of tourist spot to visit: 2\n",
      "Tourist spot choice 1\n",
      "Place name: Paradise Park Farm \n",
      "Entrance price: RM63\n",
      "\n",
      "Tourist spot choice 2\n",
      "Place name: Garden of Nature \n",
      "Entrance price: RM121\n",
      "\n",
      "Total tourism cost --> RM 184 \n",
      "\n",
      "Number of transportation to use: 0\n",
      "Total transportation cost for 4 days --> RM 0 \n",
      "\n",
      "Overall total cost for option 5 --> RM 1206.0\n"
     ]
    }
   ],
   "source": [
    "for index, x in enumerate(sorted_solutions[:5]):\n",
    "    print(\"--------------------------------------------------\")\n",
    "    print(\"Option\",index+1,\":\")\n",
    "    temp = hotels[x['h']]\n",
    "    print(\"Hotel name: {} \\nHotel star: {} \\nHotel price per night: RM{}\".format(temp[\"name\"], temp[\"star\"], temp[\"ppn\"]))\n",
    "    print(\"Total Hotel cost for\",days_of_travel,\"days --> RM\", temp[\"ppn\"] * days_of_travel,\"\\n\")\n",
    "    \n",
    "    food_list = choose(food_types, x['f'])\n",
    "    print(\"Number of food types to eat:\", len(food_list))\n",
    "    for i,j in enumerate(food_list):\n",
    "        print(\"Food choice\", i+1 )\n",
    "        print(\"Food type: {} \\nFood price range: RM{}-{}\\n\".format(j[\"type\"], j[\"price\"][0], 1+j[\"price\"][-1]))\n",
    "    print(\"Total food cost for\", days_of_travel, \"days --> RM\", sum([(max(i['price'])+min(i['price'])) / 2 * days_of_travel for i in food_list]),\"\\n\" )\n",
    "    \n",
    "    tourist_list = choose(tourist_spots, x['t'])\n",
    "    print(\"Number of tourist spot to visit:\", len(tourist_list))\n",
    "    for i,j in enumerate(tourist_list):\n",
    "        print(\"Tourist spot choice\", i+1 )\n",
    "        print(\"Place name: {} \\nEntrance price: RM{}\\n\".format(j[\"name\"], j[\"price\"]))    \n",
    "    print(\"Total tourism cost --> RM\", sum([i['price'] for i in tourist_list]),\"\\n\" )\n",
    "    \n",
    "    transportation_list = choose(transportations, x['r'])\n",
    "    print(\"Number of transportation to use:\", len(transportation_list))\n",
    "    for i,j in enumerate(transportation_list):\n",
    "        print(\"Transportation choice\", i+1 )\n",
    "        print(\"Transportation name: {} \\nTransportation price per day: RM{}\\n\".format(j[\"name\"], j[\"ppd\"]))    \n",
    "    print(\"Total transportation cost for\", days_of_travel, \"days --> RM\", sum([i['ppd'] for i in transportation_list])*days_of_travel,\"\\n\" )\n",
    "    \n",
    "    print(\"Overall total cost for option\",index+1,\"--> RM\",mysort(x))"
   ]
  },
  {
   "cell_type": "code",
   "execution_count": 0,
   "metadata": {
    "colab": {},
    "colab_type": "code",
    "id": "uYEGyhP33USm"
   },
   "outputs": [],
   "source": []
  }
 ],
 "metadata": {
  "colab": {
   "name": "CSP finalized.ipynb",
   "provenance": [],
   "version": "0.3.2"
  },
  "kernelspec": {
   "display_name": "Python 3",
   "language": "python",
   "name": "python3"
  },
  "language_info": {
   "codemirror_mode": {
    "name": "ipython",
    "version": 3
   },
   "file_extension": ".py",
   "mimetype": "text/x-python",
   "name": "python",
   "nbconvert_exporter": "python",
   "pygments_lexer": "ipython3",
   "version": "3.7.4"
  }
 },
 "nbformat": 4,
 "nbformat_minor": 1
}