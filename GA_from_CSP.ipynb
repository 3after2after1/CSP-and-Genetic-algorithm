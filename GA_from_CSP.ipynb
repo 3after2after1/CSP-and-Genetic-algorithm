{
 "cells": [
  {
   "cell_type": "markdown",
   "metadata": {
    "colab_type": "text",
    "id": "BzIgbHrWqZtu"
   },
   "source": [
    "# Welcome to GA solutions to vacation problem.\n",
    "\n",
    "To define your own parameter in the GA, please follow the cells below.\n",
    "\n",
    "Set the variable `use_default` as false if different parameter are to be specified in this algorithm. \n",
    "\n",
    "Set it to `True` if the default values of all parameter are used, and immediately run all cells in this notebook."
   ]
  },
  {
   "cell_type": "code",
   "execution_count": 0,
   "metadata": {
    "colab": {},
    "colab_type": "code",
    "id": "zfDjD_jBqvhw"
   },
   "outputs": [],
   "source": [
    "use_default = False"
   ]
  },
  {
   "cell_type": "markdown",
   "metadata": {
    "colab_type": "text",
    "id": "-8Ax_Xj7riBv"
   },
   "source": [
    "Specify the absolute path to the pickled solutions in the variable `pickled_solution_path`"
   ]
  },
  {
   "cell_type": "code",
   "execution_count": 0,
   "metadata": {
    "colab": {},
    "colab_type": "code",
    "id": "eBviikXJr6Ip"
   },
   "outputs": [],
   "source": [
    "pickled_solution_path = '/content/drive/My Drive/ai-ga-algo/csp-solutions-compressed.pyfile'"
   ]
  },
  {
   "cell_type": "markdown",
   "metadata": {
    "colab_type": "text",
    "id": "_JNZc1r2rCL_"
   },
   "source": [
    "Specify the days of travelling in the variable `days_of_travel_param`.\n",
    "\n",
    "Specify the allocated budget in the variable `allocated_budget_param`."
   ]
  },
  {
   "cell_type": "code",
   "execution_count": 0,
   "metadata": {
    "colab": {},
    "colab_type": "code",
    "id": "IjoD8R8FrAqP"
   },
   "outputs": [],
   "source": [
    "days_of_travel_param = 4\n",
    "allocated_budget_param = 2500"
   ]
  },
  {
   "cell_type": "markdown",
   "metadata": {
    "colab_type": "text",
    "id": "OIj6hJaorbwR"
   },
   "source": [
    "Specify the population size in the variable `population_size_param`.\n",
    "\n",
    "Specify the number of iterations for the GA in the variable `number_of_evolutions_param`."
   ]
  },
  {
   "cell_type": "code",
   "execution_count": 0,
   "metadata": {
    "colab": {},
    "colab_type": "code",
    "id": "Lz5V_ibDsWpP"
   },
   "outputs": [],
   "source": [
    "population_size_param = 500\n",
    "number_of_evolutions_param = 50"
   ]
  },
  {
   "cell_type": "markdown",
   "metadata": {
    "colab_type": "text",
    "id": "5Elscg3cta6Q"
   },
   "source": [
    "Specify the percentage of fit population to retain in each iteration of evolution in the variable `retain_param`.\n",
    "\n",
    "Specify the probability of mutation in the variable `radiation`."
   ]
  },
  {
   "cell_type": "code",
   "execution_count": 0,
   "metadata": {
    "colab": {},
    "colab_type": "code",
    "id": "bDJkYYHLtZ84"
   },
   "outputs": [],
   "source": [
    "radiation_param = 0.4\n",
    "retain_param = 0.5"
   ]
  },
  {
   "cell_type": "markdown",
   "metadata": {
    "colab_type": "text",
    "id": "H3iwTNtvvA7w"
   },
   "source": [
    "Set `verbose_param` to `True` to enable intermediate message in every iteration of GA evolution. Otherwise, set it to `False`.\n",
    "\n",
    "Set `mutate_once_param` to `True` if the mutation probability is for mutation of all offspring at once. Set it to `False` if the mutation of each offspring is independent from each other. "
   ]
  },
  {
   "cell_type": "code",
   "execution_count": 0,
   "metadata": {
    "colab": {},
    "colab_type": "code",
    "id": "mNiVPoLYvBXS"
   },
   "outputs": [],
   "source": [
    "verbose_param = False\n",
    "mutate_once_param = False"
   ]
  },
  {
   "cell_type": "markdown",
   "metadata": {
    "colab_type": "text",
    "id": "Grbn4JYVvrHz"
   },
   "source": [
    "## End of Parameter Specification \n",
    "Setting of parameter is done. Please run all of the cells below at once."
   ]
  },
  {
   "cell_type": "markdown",
   "metadata": {
    "colab_type": "text",
    "id": "DwkO0Mtsx3w6"
   },
   "source": [
    "# Genetic Algorithm to Solve Vacation Problem"
   ]
  },
  {
   "cell_type": "code",
   "execution_count": 0,
   "metadata": {
    "colab": {},
    "colab_type": "code",
    "id": "jdsNvfrfMl6M"
   },
   "outputs": [],
   "source": [
    "import random\n",
    "import numpy as np\n",
    "import pandas as pd\n",
    "import matplotlib.pyplot as plt\n",
    "%matplotlib inline"
   ]
  },
  {
   "cell_type": "code",
   "execution_count": 0,
   "metadata": {
    "colab": {},
    "colab_type": "code",
    "id": "k6C4HVGNmIwU"
   },
   "outputs": [],
   "source": [
    "# loading from pickle\n",
    "import pickle\n",
    "import gzip\n",
    "\n",
    "def dump_obj(obj, filename):\n",
    "    with gzip.GzipFile(filename, 'wb') as f:\n",
    "        pickle.dump(obj, f)\n",
    "\n",
    "def load_obj(filename):\n",
    "    obj = None\n",
    "    with gzip.GzipFile(filename, 'rb') as f:\n",
    "        obj = pickle.load(f)\n",
    "    return obj"
   ]
  },
  {
   "cell_type": "code",
   "execution_count": 0,
   "metadata": {
    "colab": {},
    "colab_type": "code",
    "id": "u9iR-MfdmU5u"
   },
   "outputs": [],
   "source": [
    "# mounting google drive\n",
    "# from google.colab import drive\n",
    "# drive.mount('/content/drive/')"
   ]
  },
  {
   "cell_type": "code",
   "execution_count": 0,
   "metadata": {
    "colab": {},
    "colab_type": "code",
    "id": "eOwpg6mwMp2O"
   },
   "outputs": [],
   "source": []
  },
  {
   "cell_type": "code",
   "execution_count": 0,
   "metadata": {
    "colab": {},
    "colab_type": "code",
    "id": "zp14DUMwNNDP"
   },
   "outputs": [],
   "source": [
    "# Load solutions from CSP\n",
    "if use_default:\n",
    "    path = '/content/drive/My Drive/ai-ga-algo/'\n",
    "    solutions = load_obj(path + 'csp-solutions-compressed.pyfile')\n",
    "else:\n",
    "    solutions = load_obj(pickled_solution_path)"
   ]
  },
  {
   "cell_type": "markdown",
   "metadata": {
    "colab_type": "text",
    "id": "KPgDvsNxM2IC"
   },
   "source": [
    "## Multi-hot Encoding"
   ]
  },
  {
   "cell_type": "code",
   "execution_count": 0,
   "metadata": {
    "colab": {},
    "colab_type": "code",
    "id": "pvbhuEfqMsK8"
   },
   "outputs": [],
   "source": [
    "def add_choice(choices, **kwargs):\n",
    "    index = 2 ** len(choices)\n",
    "    choices[index] = kwargs\n",
    "    #clear doubt here\n",
    "\n",
    "def range_of_choices(choices):\n",
    "    return range(sum(choices.keys()) + 1)\n",
    "    #returns 2 ** len(choices)\n",
    "\n",
    "def choose(choices, choice_number):\n",
    "    power = len(choices)\n",
    "    chosen_items = list()\n",
    " \n",
    "    while choice_number > 0:\n",
    "        if choice_number - 2**power >= 0:\n",
    "            choice_number -= 2**power\n",
    "            if 2**power in choices:\n",
    "                chosen_items.append(choices[2**power])\n",
    "        power -= 1\n",
    " \n",
    "    return chosen_items"
   ]
  },
  {
   "cell_type": "markdown",
   "metadata": {
    "colab_type": "text",
    "id": "q_3W4eytM93m"
   },
   "source": [
    "## Set up abbreviation and domain space"
   ]
  },
  {
   "cell_type": "code",
   "execution_count": 0,
   "metadata": {
    "colab": {},
    "colab_type": "code",
    "id": "1SO2qxHdM4Rd"
   },
   "outputs": [],
   "source": [
    "abbr = {\n",
    "    'h': 'hotels',\n",
    "    'f': 'food_types',\n",
    "    't': 'tourist_spots',\n",
    "    'r': 'transportations'\n",
    "}\n",
    "\n",
    "# To set up the domain space\n",
    "hotels = list()\n",
    "food_types = dict()\n",
    "tourist_spots = dict()\n",
    "transportations = dict()"
   ]
  },
  {
   "cell_type": "code",
   "execution_count": 0,
   "metadata": {
    "colab": {},
    "colab_type": "code",
    "id": "MLapRm7FNDfu"
   },
   "outputs": [],
   "source": [
    "# Add hotels, e.g.\n",
    "hotels.append({\n",
    "    \"name\": \"Avani Sepang Goldcoast Resort\",\n",
    "    \"star\": 5,\n",
    "    \"ppn\": 470\n",
    "})\n",
    "    \n",
    "hotels.append({\n",
    "    \"name\": \"Shangri-La Hotel Kuala Lumpur\",\n",
    "    \"star\": 5,\n",
    "    \"ppn\": 504\n",
    "})\n",
    "\n",
    "hotels.append({\n",
    "    \"name\": \"St. Giles Hotel & Residences\",\n",
    "    \"star\": 4,\n",
    "    \"ppn\": 412\n",
    "})\n",
    "\n",
    "hotels.append({\n",
    "    \"name\": \"Sunway Pyramid Hotel\",\n",
    "    \"star\": 4,\n",
    "    \"ppn\": 302\n",
    "})\n",
    "    \n",
    "hotels.append({\n",
    "    \"name\": \"Sunway Velocity Hotel\",\n",
    "    \"star\": 3,\n",
    "    \"ppn\": 241\n",
    "})\n",
    "    \n",
    "hotels.append({\n",
    "    \"name\": \"THE FACE Suites\",\n",
    "    \"star\": 3,\n",
    "    \"ppn\": 349\n",
    "})"
   ]
  },
  {
   "cell_type": "code",
   "execution_count": 0,
   "metadata": {
    "colab": {},
    "colab_type": "code",
    "id": "Oa1MDbg2NFAf"
   },
   "outputs": [],
   "source": [
    "# Add tourist spot, e.g.\n",
    "\n",
    "add_choice(\n",
    "    tourist_spots,\n",
    "    name = \"Sunway Lagoon\",\n",
    "    price = 108\n",
    ")\n",
    "\n",
    "add_choice(\n",
    "    tourist_spots,\n",
    "    name = \"ATV Adventure Park\",\n",
    "    price = 200\n",
    ")\n",
    "\n",
    "add_choice(\n",
    "    tourist_spots,\n",
    "    name = \"Garden of Nature\",\n",
    "    price = 121\n",
    ")\n",
    "\n",
    "add_choice(\n",
    "    tourist_spots,\n",
    "    name = \"Petronas Twin Towers\",\n",
    "    price = 122\n",
    ")\n",
    "\n",
    "add_choice(\n",
    "    tourist_spots,\n",
    "    name = \"Paradise Park Farm\",\n",
    "    price = 63\n",
    ")"
   ]
  },
  {
   "cell_type": "code",
   "execution_count": 0,
   "metadata": {
    "colab": {},
    "colab_type": "code",
    "id": "U8tS85esNHdP"
   },
   "outputs": [],
   "source": [
    "# Add food type, e.g.\n",
    "add_choice(\n",
    "    food_types,\n",
    "    type = \"Chinese Food\",\n",
    "    price = range(20, 30)\n",
    ")\n",
    "\n",
    "add_choice(\n",
    "    food_types,\n",
    "    type = \"Indian Banana Leaf\",\n",
    "    price = range(10, 20)\n",
    ")\n",
    "\n",
    "add_choice(\n",
    "    food_types,\n",
    "    type = \"Western Food\",\n",
    "    price = range(20, 50)\n",
    ")\n",
    "\n",
    "\n",
    "add_choice(\n",
    "    food_types,\n",
    "    type = \"Local Seafood\",\n",
    "    price = range(20, 30)\n",
    ")\n",
    "\n",
    "\n",
    "add_choice(\n",
    "    food_types,\n",
    "    type = \"Malay Food\",\n",
    "    price = range(7, 20)\n",
    ")"
   ]
  },
  {
   "cell_type": "code",
   "execution_count": 0,
   "metadata": {
    "colab": {},
    "colab_type": "code",
    "id": "dD1fPCvmNJI5"
   },
   "outputs": [],
   "source": [
    "# Add transportations, e.g.\n",
    "add_choice(\n",
    "    transportations,\n",
    "    name = \"Kommuter\",\n",
    "    ppd = 6\n",
    ")\n",
    "\n",
    "\n",
    "add_choice(\n",
    "    transportations,\n",
    "    name = \"RapidKL Bus\",\n",
    "    ppd = 6\n",
    ")\n",
    "\n",
    "\n",
    "add_choice(\n",
    "    transportations,\n",
    "    name = \"LRT\",\n",
    "    ppd = 5\n",
    ")\n",
    "\n",
    "\n",
    "add_choice(\n",
    "    transportations,\n",
    "    name = \"KLIA Express\",\n",
    "    ppd = 55\n",
    ")\n",
    "\n",
    "\n",
    "add_choice(\n",
    "    transportations,\n",
    "    name = \"Taxi\",\n",
    "    ppd = 40\n",
    ")"
   ]
  },
  {
   "cell_type": "markdown",
   "metadata": {
    "colab_type": "text",
    "id": "Vd931lSDOjtC"
   },
   "source": [
    "## Define fixed variable"
   ]
  },
  {
   "cell_type": "code",
   "execution_count": 0,
   "metadata": {
    "colab": {},
    "colab_type": "code",
    "id": "OnX0bsnJOmz9"
   },
   "outputs": [],
   "source": [
    "# fixed variables\n",
    "if use_default:\n",
    "    days_of_travel = 4\n",
    "    allocated_budget = 2500\n",
    "else:\n",
    "    days_of_travel = days_of_travel_param\n",
    "    allocated_budget = allocated_budget_param"
   ]
  },
  {
   "cell_type": "markdown",
   "metadata": {
    "colab_type": "text",
    "id": "TyY7yLW3NrSg"
   },
   "source": [
    "## Define range of choices for each domain"
   ]
  },
  {
   "cell_type": "code",
   "execution_count": 0,
   "metadata": {
    "colab": {},
    "colab_type": "code",
    "id": "1L3-UIoFNtuH"
   },
   "outputs": [],
   "source": [
    "hotel_range = range(len(hotels))\n",
    "food_type_range = range_of_choices(food_types)\n",
    "tourist_spot_range = range_of_choices(tourist_spots)\n",
    "transportation_range = range_of_choices(transportations)"
   ]
  },
  {
   "cell_type": "markdown",
   "metadata": {
    "colab_type": "text",
    "id": "4iNmvxT5ogfX"
   },
   "source": [
    "## Deriving fitness function from total cost and total options"
   ]
  },
  {
   "cell_type": "code",
   "execution_count": 0,
   "metadata": {
    "colab": {},
    "colab_type": "code",
    "id": "ekKA9QUBNK2N"
   },
   "outputs": [],
   "source": [
    "def total_cost_and_options(**k):\n",
    "    h, t, f, r = k['h'], k['t'], k['f'], k['r']\n",
    "    hotel_cost = hotels[h][\"ppn\"] * days_of_travel\n",
    "\n",
    "    tourist_list = choose(tourist_spots, t)\n",
    "    tourist_cost = sum([i['price'] for i in tourist_list])\n",
    "\n",
    "    food_list = choose(food_types,f)\n",
    "    food_cost = sum([(max(i['price'])+min(i['price'])) / 2 * days_of_travel for i in food_list]) \n",
    "    \n",
    "    transportation_list = choose(transportations,r)\n",
    "    transportation_cost = sum([i['ppd'] * days_of_travel for i in transportation_list])\n",
    "        \n",
    "    total_cost = hotel_cost + tourist_cost + food_cost + transportation_cost\n",
    "    return total_cost, len(tourist_list) + len(food_list) + len(transportation_list)\n",
    "\n",
    "def fitness_function(solution):\n",
    "    cost, options=  total_cost_and_options(**solution)\n",
    "    return cost/options"
   ]
  },
  {
   "cell_type": "markdown",
   "metadata": {
    "colab_type": "text",
    "id": "JnOHSBVIprA_"
   },
   "source": [
    "## Define function to sort population by fitness"
   ]
  },
  {
   "cell_type": "code",
   "execution_count": 0,
   "metadata": {
    "colab": {},
    "colab_type": "code",
    "id": "3IbXDN4Qpp-B"
   },
   "outputs": [],
   "source": [
    "def pair_population_fitness(population):\n",
    "    return [(i, fitness_function(i)) for i in population]\n",
    "\n",
    "def sort_by_fitness(population):\n",
    "    population_fitness = pair_population_fitness(population)\n",
    "    population_fitness = sorted(population_fitness, key=lambda x: x[1])\n",
    "    population = [i[0] for i in population_fitness]\n",
    "    return population"
   ]
  },
  {
   "cell_type": "markdown",
   "metadata": {
    "colab_type": "text",
    "id": "_m3gfHLKp1Mm"
   },
   "source": [
    "## Define function to obtain average fitness score in a population"
   ]
  },
  {
   "cell_type": "code",
   "execution_count": 0,
   "metadata": {
    "colab": {},
    "colab_type": "code",
    "id": "nYHmuCJbp442"
   },
   "outputs": [],
   "source": [
    "def get_population_fitness(population):\n",
    "    population_fitness = pair_population_fitness(population)\n",
    "    population_fitness_average = np.mean([i[1] for i in population_fitness])\n",
    "    return population_fitness_average"
   ]
  },
  {
   "cell_type": "markdown",
   "metadata": {
    "colab_type": "text",
    "id": "bcR4kx1mopyu"
   },
   "source": [
    "## Define crossbreed, mutate, and evolve function"
   ]
  },
  {
   "cell_type": "code",
   "execution_count": 0,
   "metadata": {
    "colab": {},
    "colab_type": "code",
    "id": "LDOF_GCKPvdH"
   },
   "outputs": [],
   "source": [
    "def crossbreed(gene_a, gene_b):\n",
    "    # select how many attributes to swap\n",
    "    swaps = random.randint(1, 3)\n",
    "\n",
    "    # select attributes to swap\n",
    "    attr = random.sample(gene_a.keys(), swaps)\n",
    "\n",
    "    copy_a, copy_b = dict(gene_a), dict(gene_b)\n",
    "\n",
    "    # crossbreed\n",
    "    for i in attr:\n",
    "        copy_a[i], copy_b[i] = copy_b[i], copy_a[i]\n",
    "\n",
    "    if copy_a == gene_a or copy_b == gene_b:\n",
    "        raise Exception(\"Same breed is generated.\")\n",
    "\n",
    "    return copy_a, copy_b\n",
    "  \n",
    "def mutate(gene):\n",
    "    # select with attribute to mutate\n",
    "    attr = random.choice(list(gene.keys()))\n",
    "    if attr == \"h\":\n",
    "        gene[attr] = random.choice(hotel_range)\n",
    "    elif attr == \"f\":\n",
    "        gene[attr] = random.choice(food_type_range)\n",
    "    elif attr == \"t\":\n",
    "        gene[attr] = random.choice(tourist_spot_range)\n",
    "    else:\n",
    "        gene[attr] = random.choice(transportation_range)\n",
    "    return gene\n",
    "\n",
    "def evolve(pop, target, retain, radiation, mutate_once, verbose):\n",
    "    pop = sort_by_fitness(pop)\n",
    "    retain = int(len(pop) * retain)\n",
    "    new_pop = pop[:retain]\n",
    "    if verbose:\n",
    "        print(\"Removed\", len(pop) - retain)\n",
    "\n",
    "    collision = 0\n",
    "    mutation = 0\n",
    "    disqualified = 0\n",
    "    while(len(new_pop) < target):\n",
    "        gene_a, gene_b = random.sample(pop, 2)\n",
    "        try:\n",
    "            gene_c, gene_d = crossbreed(gene_a=gene_a, gene_b=gene_b)\n",
    "\n",
    "            if(random.random() < radiation):\n",
    "                if mutate_once:\n",
    "                    mutation += 2\n",
    "                    gene_c, gene_d = mutate(gene_c), mutate(gene_d)\n",
    "                else:\n",
    "                    mutation += 1\n",
    "                    gene_c = mutate(gene_c)\n",
    "                    if(random.random() < radiation):\n",
    "                        gene_d = mutate(gene_d)\n",
    "                        mutation += 1\n",
    "\n",
    "            if gene_c in new_pop or gene_d in new_pop:\n",
    "                # only append unique gene\n",
    "                  collision += 1\n",
    "                  if gene_c in new_pop and gene_d in new_pop:\n",
    "                      # both genes are collisions and should be considered \n",
    "                      # as extra demerit\n",
    "                      collision += 1\n",
    "                  continue\n",
    "\n",
    "            if total_cost_and_options(**gene_c)[0] > allocated_budget:\n",
    "                disqualified += 1\n",
    "            else:\n",
    "                new_pop.append(gene_c)\n",
    "\n",
    "            if total_cost_and_options(**gene_d)[0] > allocated_budget:\n",
    "                disqualified += 1\n",
    "            else:\n",
    "                new_pop.append(gene_d)\n",
    "\n",
    "        except:\n",
    "            # collision with parents aka same gene result with parents\n",
    "            collision += 1\n",
    "\n",
    "    if verbose:\n",
    "        print(\"Number of collisions:\", collision)\n",
    "        print(\"Number of mutations:\", mutation)\n",
    "        print(\"Number of disqualified:\", disqualified)\n",
    "    return new_pop"
   ]
  },
  {
   "cell_type": "markdown",
   "metadata": {
    "colab_type": "text",
    "id": "c9IxqUbko4L2"
   },
   "source": [
    "##  Define evolution iteration parameter"
   ]
  },
  {
   "cell_type": "code",
   "execution_count": 0,
   "metadata": {
    "colab": {},
    "colab_type": "code",
    "id": "xFn_PiMMScmd"
   },
   "outputs": [],
   "source": [
    "if use_default:\n",
    "    population_size = 500\n",
    "    number_of_evolutions = 50\n",
    "    retain = 0.5\n",
    "    radiation = 0.4\n",
    "    mutate_once = False\n",
    "    verbose = False\n",
    "else:\n",
    "    population_size = population_size_param\n",
    "    number_of_evolutions = number_of_evolutions_param\n",
    "    retain = retain_param\n",
    "    radiation = radiation_param\n",
    "    mutate_once = mutate_once_param\n",
    "    verbose = verbose_param"
   ]
  },
  {
   "cell_type": "markdown",
   "metadata": {
    "colab_type": "text",
    "id": "IxmVjGKjpFH9"
   },
   "source": [
    "## Perform GA iteration"
   ]
  },
  {
   "cell_type": "code",
   "execution_count": 0,
   "metadata": {
    "colab": {},
    "colab_type": "code",
    "id": "kTr1jqUNSsXN"
   },
   "outputs": [],
   "source": [
    "population = random.sample(solutions, population_size)\n",
    "evolution_history = list()\n",
    "average_cost_and_options = [total_cost_and_options(**i) for i in population]\n",
    "average_cost = np.mean([i[0] for i in average_cost_and_options])\n",
    "average_options = np.mean([i[1] for i in average_cost_and_options])\n",
    "evolution_history.append([get_population_fitness(population), average_cost, average_options])\n",
    "\n",
    "for i in range(1, number_of_evolutions):\n",
    "    # perform one evoluation\n",
    "    new_population = evolve(population, population_size, retain, radiation, mutate_once, verbose)\n",
    "\n",
    "    # get the fitness score of the new population\n",
    "    fitness = get_population_fitness(new_population)\n",
    "\n",
    "    # get the average spending and options in the new population\n",
    "    average_cost_and_options = [total_cost_and_options(**i) for i in new_population]\n",
    "    average_cost = np.mean([i[0] for i in average_cost_and_options])\n",
    "    average_options = np.mean([i[1] for i in average_cost_and_options])\n",
    "\n",
    "    # append the information of the new population\n",
    "    evolution_history.append([fitness, average_cost, average_options])\n",
    "\n",
    "    # renew population for next iteration\n",
    "    population = new_population"
   ]
  },
  {
   "cell_type": "markdown",
   "metadata": {
    "colab_type": "text",
    "id": "I9-uofdrpJ8N"
   },
   "source": [
    "## Visualise Population Fitness Score Against \\# of Iteration"
   ]
  },
  {
   "cell_type": "code",
   "execution_count": 0,
   "metadata": {
    "colab": {
     "base_uri": "https://localhost:8080/",
     "height": 295
    },
    "colab_type": "code",
    "id": "quQil6GBfeiw",
    "outputId": "7bfbd626-b9cb-4170-85a5-860ae58650b0"
   },
   "outputs": [
    {
     "data": {
      "image/png": "[encoded data removed]",
      "text/plain": [
       "<Figure size 576x288 with 1 Axes>"
      ]
     },
     "metadata": {
      "needs_background": "light"
     },
     "output_type": "display_data"
    }
   ],
   "source": [
    "population_data = pd.DataFrame(data=evolution_history, columns=[\"Fitness Score\", \"Average Budgets\", \"Average Options\"])\n",
    "ax = population_data['Fitness Score']\\\n",
    "    .plot(\n",
    "        figsize=(8, 4),\n",
    "        title=\"Fitness Score of the Population Against Evolution Iterations\")\n",
    "ax.set_xlabel(\"Number of Iterations\")\n",
    "ax.set_ylabel(\"Fitness Scores\")\n",
    "plt.show()"
   ]
  },
  {
   "cell_type": "markdown",
   "metadata": {
    "colab_type": "text",
    "id": "wB6sl8z4pSrl"
   },
   "source": [
    "## Visualise Average Population Spending Against \\# of Iteration"
   ]
  },
  {
   "cell_type": "code",
   "execution_count": 0,
   "metadata": {
    "colab": {
     "base_uri": "https://localhost:8080/",
     "height": 295
    },
    "colab_type": "code",
    "id": "P-v8MRo7pORv",
    "outputId": "e2e64653-d6e8-4ccd-eb95-e9b99ce089cb"
   },
   "outputs": [
    {
     "data": {
      "image/png": "[encoded data removed]",
      "text/plain": [
       "<Figure size 576x288 with 1 Axes>"
      ]
     },
     "metadata": {
      "needs_background": "light"
     },
     "output_type": "display_data"
    }
   ],
   "source": [
    "ax = population_data['Average Budgets']\\\n",
    "    .plot(\n",
    "        figsize=(8, 4),\n",
    "        title=\"Fitness Score of the Population Against Evolution Iterations\")\n",
    "ax.set_xlabel(\"Number of Iterations\")\n",
    "ax.set_ylabel(\"Average Total Budgets\")\n",
    "plt.show()"
   ]
  },
  {
   "cell_type": "markdown",
   "metadata": {
    "colab_type": "text",
    "id": "HLOIMlJapY9g"
   },
   "source": [
    "## Visualise Average Number of Options Against \\# of Iteration"
   ]
  },
  {
   "cell_type": "code",
   "execution_count": 0,
   "metadata": {
    "colab": {
     "base_uri": "https://localhost:8080/",
     "height": 295
    },
    "colab_type": "code",
    "id": "jcWK7RADpWyP",
    "outputId": "cb8b9df9-d585-40e6-aca5-d60eabdef611"
   },
   "outputs": [
    {
     "data": {
      "image/png": "[encoded data removed]",
      "text/plain": [
       "<Figure size 576x288 with 1 Axes>"
      ]
     },
     "metadata": {
      "needs_background": "light"
     },
     "output_type": "display_data"
    }
   ],
   "source": [
    "ax = population_data['Average Options']\\\n",
    "    .plot(\n",
    "        figsize=(8, 4),\n",
    "        title=\"Fitness Score of the Population Against Evolution Iterations\")\n",
    "ax.set_xlabel(\"Number of Iterations\")\n",
    "ax.set_ylabel(\"Average Number of Options\")\n",
    "plt.show()"
   ]
  },
  {
   "cell_type": "markdown",
   "metadata": {
    "colab_type": "text",
    "id": "-DHCCdlgpcX5"
   },
   "source": [
    "##  Display options example"
   ]
  },
  {
   "cell_type": "code",
   "execution_count": 0,
   "metadata": {
    "colab": {
     "base_uri": "https://localhost:8080/",
     "height": 1000
    },
    "colab_type": "code",
    "id": "nXxJQkRKnZbS",
    "outputId": "15c7d08d-dd40-4de3-9102-616522f1fe20"
   },
   "outputs": [
    {
     "name": "stdout",
     "output_type": "stream",
     "text": [
      "--------------------------------------------------\n",
      "Option 1 :\n",
      "Hotel name: Sunway Velocity Hotel \n",
      "Hotel star: 3 \n",
      "Hotel price per night: RM241\n",
      "Total Hotel cost for 4 days --> RM 964 \n",
      "\n",
      "Food choice 1\n",
      "Food type: Malay Food \n",
      "Food price range: RM7-20\n",
      "\n",
      "Food choice 2\n",
      "Food type: Chinese Food \n",
      "Food price range: RM20-30\n",
      "\n",
      "Food choice 3\n",
      "Food type: Indian Banana Leaf \n",
      "Food price range: RM10-20\n",
      "\n",
      "Food choice 4\n",
      "Food type: Local Seafood\n",
      "Food price range: RM20-30\n",
      "\n",
      "Total food cost for 4 days --> RM 306.0 \n",
      "\n",
      "Tourist spot choice 1\n",
      "Place name: Paradise Park Farm \n",
      "Entrance price: RM63\n",
      "\n",
      "Tourist spot choice 2\n",
      "Place name: Petronas Twin Towers \n",
      "Entrance price: RM122\n",
      "\n",
      "Tourist spot choice 3\n",
      "Place name: Garden of Nature \n",
      "Entrance price: RM121\n",
      "\n",
      "Tourist spot choice 4\n",
      "Place name: Sunway Lagoon \n",
      "Entrance price: RM108\n",
      "\n",
      "Total tourism cost --> RM 414 \n",
      "\n",
      "Transportation choice 1\n",
      "Transportation name: LRT \n",
      "Transportation price per day: RM5\n",
      "\n",
      "Transportation choice 2\n",
      "Transportation name: RapidKL Bus \n",
      "Transportation price per day: RM6\n",
      "\n",
      "Transportation choice 3\n",
      "Transportation name: Kommuter \n",
      "Transportation price per day: RM6\n",
      "\n",
      "Total transportation cost for 4 days --> RM 68 \n",
      "\n",
      "Overall total cost for option 1 --> RM 1752.0\n",
      "--------------------------------------------------\n",
      "Option 2 :\n",
      "Hotel name: Sunway Velocity Hotel \n",
      "Hotel star: 3 \n",
      "Hotel price per night: RM241\n",
      "Total Hotel cost for 4 days --> RM 964 \n",
      "\n",
      "Food choice 1\n",
      "Food type: Malay Food \n",
      "Food price range: RM7-20\n",
      "\n",
      "Food choice 2\n",
      "Food type: Chinese Food \n",
      "Food price range: RM20-30\n",
      "\n",
      "Food choice 3\n",
      "Food type: Indian Banana Leaf \n",
      "Food price range: RM10-20\n",
      "\n",
      "Food choice 4\n",
      "Food type: Local Seafood \n",
      "Food price range: RM20-30\n",
      "\n",
      "Total food cost for 4 days --> RM 306.0 \n",
      "\n",
      "Tourist spot choice 1\n",
      "Place name: Paradise Park Farm \n",
      "Entrance price: RM63\n",
      "\n",
      "Tourist spot choice 2\n",
      "Place name: Petronas Twin Towers \n",
      "Entrance price: RM122\n",
      "\n",
      "Tourist spot choice 3\n",
      "Place name: Garden of Nature \n",
      "Entrance price: RM121\n",
      "\n",
      "Tourist spot choice 4\n",
      "Place name: Sunway Lagoon \n",
      "Entrance price: RM108\n",
      "\n",
      "Total tourism cost --> RM 414 \n",
      "\n",
      "Transportation choice 1\n",
      "Transportation name: Taxi \n",
      "Transportation price per day: RM40\n",
      "\n",
      "Transportation choice 2\n",
      "Transportation name: KLIA Express \n",
      "Transportation price per day: RM55\n",
      "\n",
      "Transportation choice 3\n",
      "Transportation name: LRT \n",
      "Transportation price per day: RM5\n",
      "\n",
      "Transportation choice 4\n",
      "Transportation name: RapidKL Bus \n",
      "Transportation price per day: RM6\n",
      "\n",
      "Transportation choice 5\n",
      "Transportation name: Kommuter \n",
      "Transportation price per day: RM6\n",
      "\n",
      "Total transportation cost for 4 days --> RM 448 \n",
      "\n",
      "Overall total cost for option 2 --> RM 2132.0\n",
      "--------------------------------------------------\n",
      "Option 3 :\n",
      "Hotel name: Sunway Velocity Hotel \n",
      "Hotel star: 3 \n",
      "Hotel price per night: RM241\n",
      "Total Hotel cost for 4 days --> RM 964 \n",
      "\n",
      "Food choice 1\n",
      "Food type: Malay Food \n",
      "Food price range: RM7-20\n",
      "\n",
      "Food choice 2\n",
      "Food type: Chinese Food \n",
      "Food price range: RM20-30\n",
      "\n",
      "Food choice 3\n",
      "Food type: Indian Banana Leaf \n",
      "Food price range: RM10-20\n",
      "\n",
      "Food choice 4\n",
      "Food type: Local Seafood \n",
      "Food price range: RM20-30\n",
      "\n",
      "Total food cost for 4 days --> RM 306.0 \n",
      "\n",
      "Tourist spot choice 1\n",
      "Place name: Garden of Nature \n",
      "Entrance price: RM121\n",
      "\n",
      "Tourist spot choice 2\n",
      "Place name: ATV Adventure Park \n",
      "Entrance price: RM200\n",
      "\n",
      "Tourist spot choice 3\n",
      "Place name: Sunway Lagoon \n",
      "Entrance price: RM108\n",
      "\n",
      "Total tourism cost --> RM 429 \n",
      "\n",
      "Transportation choice 1\n",
      "Transportation name: Taxi \n",
      "Transportation price per day: RM40\n",
      "\n",
      "Transportation choice 2\n",
      "Transportation name: KLIA Express \n",
      "Transportation price per day: RM55\n",
      "\n",
      "Transportation choice 3\n",
      "Transportation name: LRT \n",
      "Transportation price per day: RM5\n",
      "\n",
      "Transportation choice 4\n",
      "Transportation name: RapidKL Bus \n",
      "Transportation price per day: RM6\n",
      "\n",
      "Total transportation cost for 4 days --> RM 424 \n",
      "\n",
      "Overall total cost for option 3 --> RM 2123.0\n",
      "--------------------------------------------------\n",
      "Option 4 :\n",
      "Hotel name: Sunway Velocity Hotel \n",
      "Hotel star: 3 \n",
      "Hotel price per night: RM241\n",
      "Total Hotel cost for 4 days --> RM 964 \n",
      "\n",
      "Food choice 1\n",
      "Food type: Malay Food \n",
      "Food price range: RM7-20\n",
      "\n",
      "Food choice 2\n",
      "Food type: Chinese Food \n",
      "Food price range: RM20-30\n",
      "\n",
      "Food choice 3\n",
      "Food type: Indian Banana Leaf \n",
      "Food price range: RM10-20\n",
      "\n",
      "Total food cost for 4 days --> RM 208.0 \n",
      "\n",
      "Tourist spot choice 1\n",
      "Place name: Paradise Park Farm \n",
      "Entrance price: RM63\n",
      "\n",
      "Tourist spot choice 2\n",
      "Place name: Petronas Twin Towers \n",
      "Entrance price: RM122\n",
      "\n",
      "Tourist spot choice 3\n",
      "Place name: Garden of Nature \n",
      "Entrance price: RM121\n",
      "\n",
      "Tourist spot choice 4\n",
      "Place name: Sunway Lagoon \n",
      "Entrance price: RM108\n",
      "\n",
      "Total tourism cost --> RM 414 \n",
      "\n",
      "Transportation choice 1\n",
      "Transportation name: Taxi \n",
      "Transportation price per day: RM40\n",
      "\n",
      "Transportation choice 2\n",
      "Transportation name: LRT \n",
      "Transportation price per day: RM5\n",
      "\n",
      "Transportation choice 3\n",
      "Transportation name: RapidKL Bus \n",
      "Transportation price per day: RM6\n",
      "\n",
      "Total transportation cost for 4 days --> RM 204 \n",
      "\n",
      "Overall total cost for option 4 --> RM 1790.0\n",
      "--------------------------------------------------\n",
      "Option 5 :\n",
      "Hotel name: THE FACE Suites \n",
      "Hotel star: 3 \n",
      "Hotel price per night: RM349\n",
      "Total Hotel cost for 4 days --> RM 1396 \n",
      "\n",
      "Food choice 1\n",
      "Food type: Malay Food \n",
      "Food price range: RM7-20\n",
      "\n",
      "Food choice 2\n",
      "Food type: Chinese Food \n",
      "Food price range: RM20-30\n",
      "\n",
      "Food choice 3\n",
      "Food type: Indian Banana Leaf \n",
      "Food price range: RM10-20\n",
      "\n",
      "Total food cost for 4 days --> RM 208.0 \n",
      "\n",
      "Tourist spot choice 1\n",
      "Place name: Paradise Park Farm \n",
      "Entrance price: RM63\n",
      "\n",
      "Tourist spot choice 2\n",
      "Place name: Petronas Twin Towers \n",
      "Entrance price: RM122\n",
      "\n",
      "Tourist spot choice 3\n",
      "Place name: Garden of Nature \n",
      "Entrance price: RM121\n",
      "\n",
      "Tourist spot choice 4\n",
      "Place name: Sunway Lagoon \n",
      "Entrance price: RM108\n",
      "\n",
      "Total tourism cost --> RM 414 \n",
      "\n",
      "Transportation choice 1\n",
      "Transportation name: LRT \n",
      "Transportation price per day: RM5\n",
      "\n",
      "Transportation choice 2\n",
      "Transportation name: RapidKL Bus \n",
      "Transportation price per day: RM6\n",
      "\n",
      "Transportation choice 3\n",
      "Transportation name: Kommuter \n",
      "Transportation price per day: RM6\n",
      "\n",
      "Total transportation cost for 4 days --> RM 68 \n",
      "\n",
      "Overall total cost for option 5 --> RM 2086.0\n"
     ]
    }
   ],
   "source": [
    "for index, x in enumerate(random.sample(population, 5)):\n",
    "    print(\"--------------------------------------------------\")\n",
    "    print(\"Option\",index+1,\":\")\n",
    "    temp = hotels[x['h']]\n",
    "    print(\"Hotel name: {} \\nHotel star: {} \\nHotel price per night: RM{}\".format(temp[\"name\"], temp[\"star\"], temp[\"ppn\"]))\n",
    "    print(\"Total Hotel cost for\",days_of_travel,\"days --> RM\", temp[\"ppn\"] * days_of_travel,\"\\n\")\n",
    "    \n",
    "    food_list = choose(food_types, x['f'])\n",
    "    print(\"Number of food types to eat:\", len(food_list))\n",
    "    for i,j in enumerate(food_list):\n",
    "        print(\"Food choice\", i+1 )\n",
    "        print(\"Food type: {} \\nFood price range: RM{}-{}\\n\".format(j[\"type\"], j[\"price\"][0], 1+j[\"price\"][-1]))\n",
    "    print(\"Total food cost for\", days_of_travel, \"days --> RM\", sum([(max(i['price'])+min(i['price'])) / 2 * days_of_travel for i in food_list]),\"\\n\" )\n",
    "    \n",
    "    tourist_list = choose(tourist_spots, x['t'])\n",
    "    print(\"Number of tourist spot to visit:\", len(tourist_list))\n",
    "    for i,j in enumerate(tourist_list):\n",
    "        print(\"Tourist spot choice\", i+1 )\n",
    "        print(\"Place name: {} \\nEntrance price: RM{}\\n\".format(j[\"name\"], j[\"price\"]))    \n",
    "    print(\"Total tourism cost --> RM\", sum([i['price'] for i in tourist_list]),\"\\n\" )\n",
    "    \n",
    "    transportation_list = choose(transportations, x['r'])\n",
    "    print(\"Number of transportation to use:\", len(transportation_list))\n",
    "    for i,j in enumerate(transportation_list):\n",
    "        print(\"Transportation choice\", i+1 )\n",
    "        print(\"Transportation name: {} \\nTransportation price per day: RM{}\\n\".format(j[\"name\"], j[\"ppd\"]))    \n",
    "    print(\"Total transportation cost for\", days_of_travel, \"days --> RM\", sum([i['ppd'] for i in transportation_list])*days_of_travel,\"\\n\" )\n",
    "    \n",
    "    print(\"Overall total cost for option\",index+1,\"--> RM\", total_cost_and_options(**x)[0])"
   ]
  },
  {
   "cell_type": "code",
   "execution_count": 0,
   "metadata": {
    "colab": {},
    "colab_type": "code",
    "id": "YnpwriGFnb38"
   },
   "outputs": [],
   "source": []
  }
 ],
 "metadata": {
  "colab": {
   "collapsed_sections": [],
   "name": "GA from CSP",
   "provenance": []
  },
  "kernelspec": {
   "display_name": "Python 3",
   "language": "python",
   "name": "python3"
  },
  "language_info": {
   "codemirror_mode": {
    "name": "ipython",
    "version": 3
   },
   "file_extension": ".py",
   "mimetype": "text/x-python",
   "name": "python",
   "nbconvert_exporter": "python",
   "pygments_lexer": "ipython3",
   "version": "3.7.4"
  }
 },
 "nbformat": 4,
 "nbformat_minor": 1
}